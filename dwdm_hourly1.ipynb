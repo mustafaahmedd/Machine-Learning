{
  "nbformat": 4,
  "nbformat_minor": 0,
  "metadata": {
    "colab": {
      "provenance": [],
      "collapsed_sections": [
        "lDAT47wK4Jwo",
        "AVI2xt6B5MDm",
        "_S6i7mVh6QFM",
        "j4SZwPnp66vL",
        "eJFVIdugupcY"
      ]
    },
    "kernelspec": {
      "name": "python3",
      "display_name": "Python 3"
    },
    "language_info": {
      "name": "python"
    }
  },
  "cells": [
    {
      "cell_type": "code",
      "execution_count": 52,
      "metadata": {
        "id": "5ghPMIuRy3Yx"
      },
      "outputs": [],
      "source": [
        "import pandas as pd\n",
        "import numpy as np\n",
        "from sklearn.cluster import KMeans\n",
        "from sklearn.preprocessing import StandardScaler\n",
        "import matplotlib.pyplot as plt"
      ]
    },
    {
      "cell_type": "markdown",
      "source": [
        "# UPLOAD FILES FROM PC"
      ],
      "metadata": {
        "id": "3pZVVp4LjbZh"
      }
    },
    {
      "cell_type": "code",
      "source": [
        "from google.colab import files\n",
        "uploaded = files.upload()\n"
      ],
      "metadata": {
        "id": "BgiqLnrWz2Fm",
        "colab": {
          "base_uri": "https://localhost:8080/",
          "height": 73
        },
        "outputId": "1292ad1c-fd29-4d60-f858-3d43bee83653"
      },
      "execution_count": 5,
      "outputs": [
        {
          "output_type": "display_data",
          "data": {
            "text/plain": [
              "<IPython.core.display.HTML object>"
            ],
            "text/html": [
              "\n",
              "     <input type=\"file\" id=\"files-877c7fe7-efab-4034-8262-f2f9c31fb2c2\" name=\"files[]\" multiple disabled\n",
              "        style=\"border:none\" />\n",
              "     <output id=\"result-877c7fe7-efab-4034-8262-f2f9c31fb2c2\">\n",
              "      Upload widget is only available when the cell has been executed in the\n",
              "      current browser session. Please rerun this cell to enable.\n",
              "      </output>\n",
              "      <script>// Copyright 2017 Google LLC\n",
              "//\n",
              "// Licensed under the Apache License, Version 2.0 (the \"License\");\n",
              "// you may not use this file except in compliance with the License.\n",
              "// You may obtain a copy of the License at\n",
              "//\n",
              "//      http://www.apache.org/licenses/LICENSE-2.0\n",
              "//\n",
              "// Unless required by applicable law or agreed to in writing, software\n",
              "// distributed under the License is distributed on an \"AS IS\" BASIS,\n",
              "// WITHOUT WARRANTIES OR CONDITIONS OF ANY KIND, either express or implied.\n",
              "// See the License for the specific language governing permissions and\n",
              "// limitations under the License.\n",
              "\n",
              "/**\n",
              " * @fileoverview Helpers for google.colab Python module.\n",
              " */\n",
              "(function(scope) {\n",
              "function span(text, styleAttributes = {}) {\n",
              "  const element = document.createElement('span');\n",
              "  element.textContent = text;\n",
              "  for (const key of Object.keys(styleAttributes)) {\n",
              "    element.style[key] = styleAttributes[key];\n",
              "  }\n",
              "  return element;\n",
              "}\n",
              "\n",
              "// Max number of bytes which will be uploaded at a time.\n",
              "const MAX_PAYLOAD_SIZE = 100 * 1024;\n",
              "\n",
              "function _uploadFiles(inputId, outputId) {\n",
              "  const steps = uploadFilesStep(inputId, outputId);\n",
              "  const outputElement = document.getElementById(outputId);\n",
              "  // Cache steps on the outputElement to make it available for the next call\n",
              "  // to uploadFilesContinue from Python.\n",
              "  outputElement.steps = steps;\n",
              "\n",
              "  return _uploadFilesContinue(outputId);\n",
              "}\n",
              "\n",
              "// This is roughly an async generator (not supported in the browser yet),\n",
              "// where there are multiple asynchronous steps and the Python side is going\n",
              "// to poll for completion of each step.\n",
              "// This uses a Promise to block the python side on completion of each step,\n",
              "// then passes the result of the previous step as the input to the next step.\n",
              "function _uploadFilesContinue(outputId) {\n",
              "  const outputElement = document.getElementById(outputId);\n",
              "  const steps = outputElement.steps;\n",
              "\n",
              "  const next = steps.next(outputElement.lastPromiseValue);\n",
              "  return Promise.resolve(next.value.promise).then((value) => {\n",
              "    // Cache the last promise value to make it available to the next\n",
              "    // step of the generator.\n",
              "    outputElement.lastPromiseValue = value;\n",
              "    return next.value.response;\n",
              "  });\n",
              "}\n",
              "\n",
              "/**\n",
              " * Generator function which is called between each async step of the upload\n",
              " * process.\n",
              " * @param {string} inputId Element ID of the input file picker element.\n",
              " * @param {string} outputId Element ID of the output display.\n",
              " * @return {!Iterable<!Object>} Iterable of next steps.\n",
              " */\n",
              "function* uploadFilesStep(inputId, outputId) {\n",
              "  const inputElement = document.getElementById(inputId);\n",
              "  inputElement.disabled = false;\n",
              "\n",
              "  const outputElement = document.getElementById(outputId);\n",
              "  outputElement.innerHTML = '';\n",
              "\n",
              "  const pickedPromise = new Promise((resolve) => {\n",
              "    inputElement.addEventListener('change', (e) => {\n",
              "      resolve(e.target.files);\n",
              "    });\n",
              "  });\n",
              "\n",
              "  const cancel = document.createElement('button');\n",
              "  inputElement.parentElement.appendChild(cancel);\n",
              "  cancel.textContent = 'Cancel upload';\n",
              "  const cancelPromise = new Promise((resolve) => {\n",
              "    cancel.onclick = () => {\n",
              "      resolve(null);\n",
              "    };\n",
              "  });\n",
              "\n",
              "  // Wait for the user to pick the files.\n",
              "  const files = yield {\n",
              "    promise: Promise.race([pickedPromise, cancelPromise]),\n",
              "    response: {\n",
              "      action: 'starting',\n",
              "    }\n",
              "  };\n",
              "\n",
              "  cancel.remove();\n",
              "\n",
              "  // Disable the input element since further picks are not allowed.\n",
              "  inputElement.disabled = true;\n",
              "\n",
              "  if (!files) {\n",
              "    return {\n",
              "      response: {\n",
              "        action: 'complete',\n",
              "      }\n",
              "    };\n",
              "  }\n",
              "\n",
              "  for (const file of files) {\n",
              "    const li = document.createElement('li');\n",
              "    li.append(span(file.name, {fontWeight: 'bold'}));\n",
              "    li.append(span(\n",
              "        `(${file.type || 'n/a'}) - ${file.size} bytes, ` +\n",
              "        `last modified: ${\n",
              "            file.lastModifiedDate ? file.lastModifiedDate.toLocaleDateString() :\n",
              "                                    'n/a'} - `));\n",
              "    const percent = span('0% done');\n",
              "    li.appendChild(percent);\n",
              "\n",
              "    outputElement.appendChild(li);\n",
              "\n",
              "    const fileDataPromise = new Promise((resolve) => {\n",
              "      const reader = new FileReader();\n",
              "      reader.onload = (e) => {\n",
              "        resolve(e.target.result);\n",
              "      };\n",
              "      reader.readAsArrayBuffer(file);\n",
              "    });\n",
              "    // Wait for the data to be ready.\n",
              "    let fileData = yield {\n",
              "      promise: fileDataPromise,\n",
              "      response: {\n",
              "        action: 'continue',\n",
              "      }\n",
              "    };\n",
              "\n",
              "    // Use a chunked sending to avoid message size limits. See b/62115660.\n",
              "    let position = 0;\n",
              "    do {\n",
              "      const length = Math.min(fileData.byteLength - position, MAX_PAYLOAD_SIZE);\n",
              "      const chunk = new Uint8Array(fileData, position, length);\n",
              "      position += length;\n",
              "\n",
              "      const base64 = btoa(String.fromCharCode.apply(null, chunk));\n",
              "      yield {\n",
              "        response: {\n",
              "          action: 'append',\n",
              "          file: file.name,\n",
              "          data: base64,\n",
              "        },\n",
              "      };\n",
              "\n",
              "      let percentDone = fileData.byteLength === 0 ?\n",
              "          100 :\n",
              "          Math.round((position / fileData.byteLength) * 100);\n",
              "      percent.textContent = `${percentDone}% done`;\n",
              "\n",
              "    } while (position < fileData.byteLength);\n",
              "  }\n",
              "\n",
              "  // All done.\n",
              "  yield {\n",
              "    response: {\n",
              "      action: 'complete',\n",
              "    }\n",
              "  };\n",
              "}\n",
              "\n",
              "scope.google = scope.google || {};\n",
              "scope.google.colab = scope.google.colab || {};\n",
              "scope.google.colab._files = {\n",
              "  _uploadFiles,\n",
              "  _uploadFilesContinue,\n",
              "};\n",
              "})(self);\n",
              "</script> "
            ]
          },
          "metadata": {}
        },
        {
          "output_type": "stream",
          "name": "stdout",
          "text": [
            "Saving Q3_dataset.csv to Q3_dataset.csv\n"
          ]
        }
      ]
    },
    {
      "cell_type": "code",
      "source": [
        "import os\n",
        "import io\n",
        "# Load the dataset\n",
        "# data = pd.read_csv(\"C:/Users\\Data Engineer\\Desktop\\q3_data.csv\")\n",
        "data = pd.read_csv(io.BytesIO(uploaded['Q3_dataset.csv']))\n",
        "print(data)\n",
        "\n"
      ],
      "metadata": {
        "colab": {
          "base_uri": "https://localhost:8080/"
        },
        "id": "vuxcUAZNzFbA",
        "outputId": "acaf2335-afa8-4953-bfc5-847f9c44ac66"
      },
      "execution_count": 53,
      "outputs": [
        {
          "output_type": "stream",
          "name": "stdout",
          "text": [
            "  Customer  Annual Income ($1000)  Spending Score (1 - 100)  Unnamed: 3\n",
            "0        A                     40                        60         NaN\n",
            "1        B                     60                        50         NaN\n",
            "2        C                     30                        80         NaN\n",
            "3        D                     70                        20         NaN\n",
            "4        E                     80                        10         NaN\n",
            "5        F                     20                        90         NaN\n",
            "6        G                     50                        45         NaN\n",
            "7        H                     10                        95         NaN\n"
          ]
        }
      ]
    },
    {
      "cell_type": "markdown",
      "source": [
        "# Clustering Start"
      ],
      "metadata": {
        "id": "JdgjNuBDvSLc"
      }
    },
    {
      "cell_type": "code",
      "source": [
        "# Extract features for clustering\n",
        "X = data.iloc[:, [1, 2]].values  # Columns 2 and 3 (Annual Income and Spending Score)\n",
        "print(X)\n",
        "# Feature Scaling\n",
        "scaler = StandardScaler()\n",
        "X_scaled = scaler.fit_transform(X)"
      ],
      "metadata": {
        "id": "g3PVObyU1VkD",
        "colab": {
          "base_uri": "https://localhost:8080/"
        },
        "outputId": "8bf5186e-f4fc-42db-9586-e61d401261d2"
      },
      "execution_count": 55,
      "outputs": [
        {
          "output_type": "stream",
          "name": "stdout",
          "text": [
            "[[40 60]\n",
            " [60 50]\n",
            " [30 80]\n",
            " [70 20]\n",
            " [80 10]\n",
            " [20 90]\n",
            " [50 45]\n",
            " [10 95]]\n"
          ]
        }
      ]
    },
    {
      "cell_type": "code",
      "source": [
        "# Perform k-means clustering\n",
        "kmeans = KMeans(n_clusters=3, init='random', max_iter=300, n_init=10, random_state=0)\n",
        "kmeans.fit(X_scaled)\n",
        "\n",
        "# Getting the cluster assignments and centroids\n",
        "cluster_assignments = kmeans.labels_\n",
        "cluster_centroids = kmeans.cluster_centers_\n",
        "\n",
        "# Adding cluster assignments to the original data\n",
        "data['Cluster'] = cluster_assignments\n",
        "\n",
        "# Display final cluster assignments and cluster centroids\n",
        "print(\"Final Cluster Assignments:\")\n",
        "print(data[['Customer', 'Cluster']])\n",
        "\n",
        "print(\"\\nFinal Cluster Centroids:\")\n",
        "print(cluster_centroids)"
      ],
      "metadata": {
        "colab": {
          "base_uri": "https://localhost:8080/"
        },
        "id": "6_G6dsh-1dso",
        "outputId": "2249f57f-af54-46f2-8a95-d27f26db9555"
      },
      "execution_count": 56,
      "outputs": [
        {
          "output_type": "stream",
          "name": "stdout",
          "text": [
            "Final Cluster Assignments:\n",
            "  Customer  Cluster\n",
            "0        A        0\n",
            "1        B        0\n",
            "2        C        1\n",
            "3        D        2\n",
            "4        E        2\n",
            "5        F        1\n",
            "6        G        0\n",
            "7        H        1\n",
            "\n",
            "Final Cluster Centroids:\n",
            "[[ 0.21821789 -0.15677535]\n",
            " [-1.09108945  1.09742742]\n",
            " [ 1.30930734 -1.41097811]]\n"
          ]
        }
      ]
    },
    {
      "cell_type": "code",
      "source": [
        "# Visualize the clusters\n",
        "plt.scatter(X_scaled[cluster_assignments == 0, 0], X_scaled[cluster_assignments == 0, 1], s=100, c='red', label='Cluster 0')\n",
        "plt.scatter(X_scaled[cluster_assignments == 1, 0], X_scaled[cluster_assignments == 1, 1], s=100, c='blue', label='Cluster 1')\n",
        "plt.scatter(X_scaled[cluster_assignments == 2, 0], X_scaled[cluster_assignments == 2, 1], s=100, c='green', label='Cluster 2')\n",
        "plt.scatter(cluster_centroids[:, 0], cluster_centroids[:, 1], s=300, c='yellow', label='Centroids')\n",
        "plt.title('Clusters of Customers')\n",
        "plt.xlabel('Scaled Annual Income')\n",
        "plt.ylabel('Scaled Spending Score')\n",
        "plt.legend()\n",
        "plt.show()"
      ],
      "metadata": {
        "colab": {
          "base_uri": "https://localhost:8080/",
          "height": 472
        },
        "id": "XWQEIqR42Av-",
        "outputId": "435591f7-a172-413d-cff6-3710bc1f32b0"
      },
      "execution_count": 57,
      "outputs": [
        {
          "output_type": "display_data",
          "data": {
            "text/plain": [
              "<Figure size 640x480 with 1 Axes>"
            ],
            "image/png": "[encoded data removed]"
          },
          "metadata": {}
        }
      ]
    },
    {
      "cell_type": "markdown",
      "source": [
        "# a) **Initialize three initial cluster centroids randomly:**\n",
        "\n",
        "To initialize the cluster centroids randomly, wecan randomly select three data points from our dataset as initial centroids."
      ],
      "metadata": {
        "id": "lDAT47wK4Jwo"
      }
    },
    {
      "cell_type": "code",
      "source": [
        "import random\n",
        "\n",
        "# Convert X_scaled numpy array to a list\n",
        "X_scaled_list = X_scaled.tolist()\n",
        "\n",
        "# Choose three random data points as initial centroids\n",
        "initial_centroids = random.sample(X_scaled_list, k=3)\n",
        "initial_centroids"
      ],
      "metadata": {
        "colab": {
          "base_uri": "https://localhost:8080/"
        },
        "id": "Yv6RPuUf4TzU",
        "outputId": "2ef5b389-d2d3-486b-b469-5dc79ba5ede5"
      },
      "execution_count": 58,
      "outputs": [
        {
          "output_type": "execute_result",
          "data": {
            "text/plain": [
              "[[0.2182178902359924, -0.3848122123281115],\n",
              " [-0.6546536707079772, 0.8123813371371242],\n",
              " [1.5275252316519468, -1.5820057617933472]]"
            ]
          },
          "metadata": {},
          "execution_count": 58
        }
      ]
    },
    {
      "cell_type": "markdown",
      "source": [
        "# b) **Assign each customer to the nearest cluster based on the Euclidean distance:**\n",
        "\n",
        "For each data point, calculate its Euclidean distance to each centroid and assign it to the cluster with the closest centroid."
      ],
      "metadata": {
        "id": "AVI2xt6B5MDm"
      }
    },
    {
      "cell_type": "code",
      "source": [
        "def assign_to_nearest_cluster(data_point, centroids):\n",
        "    distances = [np.linalg.norm(data_point - centroid) for centroid in centroids]\n",
        "    nearest_cluster = np.argmin(distances) #np.argmin returns the index of the smallest value in the distances list.\n",
        "    return nearest_cluster\n",
        "\n",
        "cluster_assignments = [assign_to_nearest_cluster(point, initial_centroids) for point in X_scaled]\n",
        "cluster_assignments\n"
      ],
      "metadata": {
        "id": "Ww2eVCCY4lNb",
        "colab": {
          "base_uri": "https://localhost:8080/"
        },
        "outputId": "175fd642-be3c-4aa1-d9e4-849e4a69a6e4"
      },
      "execution_count": 59,
      "outputs": [
        {
          "output_type": "execute_result",
          "data": {
            "text/plain": [
              "[0, 0, 1, 2, 2, 1, 0, 1]"
            ]
          },
          "metadata": {},
          "execution_count": 59
        }
      ]
    },
    {
      "cell_type": "markdown",
      "source": [
        "# c) **Recalculate the cluster centroids:**\n",
        "\n",
        "Calculate the mean of all data points assigned to each cluster to find the new centroids."
      ],
      "metadata": {
        "id": "_S6i7mVh6QFM"
      }
    },
    {
      "cell_type": "code",
      "source": [
        "def recalculate_centroids(data, assignments, num_clusters):\n",
        "    new_centroids = []\n",
        "    for cluster in range(num_clusters):\n",
        "        cluster_points = [data[i] for i in range(len(data)) if assignments[i] == cluster]\n",
        "        new_centroid = np.mean(cluster_points, axis=0)\n",
        "        new_centroids.append(new_centroid)\n",
        "    return new_centroids\n",
        "\n",
        "new_centroids = recalculate_centroids(X_scaled, cluster_assignments, num_clusters=3)\n"
      ],
      "metadata": {
        "id": "06yPj7I-6Xgl"
      },
      "execution_count": 60,
      "outputs": []
    },
    {
      "cell_type": "markdown",
      "source": [
        "#d) **Repeat the assignment and recalculation steps until convergence:**\n",
        "\n",
        "Repeat steps b and c iteratively until the cluster assignments and centroids stop changing significantly between iterations."
      ],
      "metadata": {
        "id": "j4SZwPnp66vL"
      }
    },
    {
      "cell_type": "code",
      "source": [
        "#limit to stop iterating for convergance\n",
        "max_iterations = 100\n",
        "\n",
        "for iteration in range(max_iterations):\n",
        "    new_assignments = [assign_to_nearest_cluster(point, new_centroids) for point in X_scaled]\n",
        "    if new_assignments == cluster_assignments:\n",
        "        break\n",
        "    cluster_assignments = new_assignments\n",
        "    new_centroids = recalculate_centroids(X_scaled, cluster_assignments, num_clusters=3)\n"
      ],
      "metadata": {
        "id": "-hCUQCyw6941"
      },
      "execution_count": 61,
      "outputs": []
    },
    {
      "cell_type": "markdown",
      "source": [
        "# e) **Provide the final cluster assignments and cluster centroids.**"
      ],
      "metadata": {
        "id": "eJFVIdugupcY"
      }
    },
    {
      "cell_type": "code",
      "source": [
        "# Print the final cluster assignments\n",
        "print(\"Final Cluster Assignments:\")\n",
        "for i, assignment in enumerate(cluster_assignments):\n",
        "    print(f\"Customer {i+1}: Cluster {assignment}\")\n",
        "\n",
        "# Print the final cluster centroids\n",
        "print(\"\\nFinal Cluster Centroids:\")\n",
        "for cluster, centroid in enumerate(new_centroids):\n",
        "    print(f\"Cluster {cluster}: {centroid}\")\n"
      ],
      "metadata": {
        "colab": {
          "base_uri": "https://localhost:8080/"
        },
        "id": "5keITN5A7Dp-",
        "outputId": "24fc0555-1b78-4309-c74a-1e00d75ad8ff"
      },
      "execution_count": 62,
      "outputs": [
        {
          "output_type": "stream",
          "name": "stdout",
          "text": [
            "Final Cluster Assignments:\n",
            "Customer 1: Cluster 0\n",
            "Customer 2: Cluster 0\n",
            "Customer 3: Cluster 1\n",
            "Customer 4: Cluster 2\n",
            "Customer 5: Cluster 2\n",
            "Customer 6: Cluster 1\n",
            "Customer 7: Cluster 0\n",
            "Customer 8: Cluster 1\n",
            "\n",
            "Final Cluster Centroids:\n",
            "Cluster 0: [ 0.21821789 -0.15677535]\n",
            "Cluster 1: [-1.09108945  1.09742742]\n",
            "Cluster 2: [ 1.30930734 -1.41097811]\n"
          ]
        }
      ]
    },
    {
      "cell_type": "code",
      "source": [
        "# Plot the data points and cluster centroids\n",
        "plt.scatter(X_scaled[:, 0], X_scaled[:, 1], c=cluster_assignments, cmap='rainbow', label='Data Points')\n",
        "plt.scatter(np.array(new_centroids)[:, 0], np.array(new_centroids)[:, 1], c='black', marker='X', s=100, label='Cluster Centroids')\n",
        "plt.xlabel('Annual Income')\n",
        "plt.ylabel('Spending Score')\n",
        "plt.title('K-Means Clustering Result')\n",
        "plt.legend()\n",
        "plt.show()\n"
      ],
      "metadata": {
        "colab": {
          "base_uri": "https://localhost:8080/"
        },
        "id": "FUqvz9x0yEJ7",
        "outputId": "ce52b940-b988-405f-f379-1d583e3709df"
      },
      "execution_count": null,
      "outputs": [
        {
          "output_type": "display_data",
          "data": {
            "text/plain": [
              "<Figure size 640x480 with 1 Axes>"
            ],
            "image/png": "[encoded data removed]"
          },
          "metadata": {}
        }
      ]
    },
    {
      "cell_type": "markdown",
      "source": [
        "# **Question 2**\n",
        "\n",
        "You are working with a dataset that contains information about different types of animals based on two features: height (in centimeters) and weight (in kilograms). You want to use the k-Nearest Neighbors (k-NN) algorithm to classify animals into two categories: \"Mammals\" and \"Reptiles.\" You have the following extended training dataset:\n",
        "\n",
        "![dataset q2.PNG](data:image/png;base64,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)\n",
        "\n",
        "Develop Program which can\n",
        "a) Calculate the Euclidean distance between the test animal (height: 35 cm, weight: 2.5 kg) and eachdata point.\n",
        "b) Determine the k-nearest neighbours for the test animal.\n",
        "c) Predict the category for the test animal based on the majority category among its k-nearest neighbours."
      ],
      "metadata": {
        "id": "09-6LB2-I0tV"
      }
    },
    {
      "cell_type": "code",
      "source": [
        "import pandas as pd\n",
        "import numpy as np\n",
        "from collections import Counter\n",
        "from google.colab import files\n",
        "import io\n"
      ],
      "metadata": {
        "id": "0dXyGARXJjES"
      },
      "execution_count": 63,
      "outputs": []
    },
    {
      "cell_type": "code",
      "source": [
        "uploaded = files.upload()"
      ],
      "metadata": {
        "colab": {
          "base_uri": "https://localhost:8080/",
          "height": 73
        },
        "id": "iY-WcuDVUEzt",
        "outputId": "75fd4456-c31d-4eff-c28d-f1bbd4b72f21"
      },
      "execution_count": 66,
      "outputs": [
        {
          "output_type": "display_data",
          "data": {
            "text/plain": [
              "<IPython.core.display.HTML object>"
            ],
            "text/html": [
              "\n",
              "     <input type=\"file\" id=\"files-43cb8bf9-d94b-40fb-8d01-ea6ca24cf6d3\" name=\"files[]\" multiple disabled\n",
              "        style=\"border:none\" />\n",
              "     <output id=\"result-43cb8bf9-d94b-40fb-8d01-ea6ca24cf6d3\">\n",
              "      Upload widget is only available when the cell has been executed in the\n",
              "      current browser session. Please rerun this cell to enable.\n",
              "      </output>\n",
              "      <script>// Copyright 2017 Google LLC\n",
              "//\n",
              "// Licensed under the Apache License, Version 2.0 (the \"License\");\n",
              "// you may not use this file except in compliance with the License.\n",
              "// You may obtain a copy of the License at\n",
              "//\n",
              "//      http://www.apache.org/licenses/LICENSE-2.0\n",
              "//\n",
              "// Unless required by applicable law or agreed to in writing, software\n",
              "// distributed under the License is distributed on an \"AS IS\" BASIS,\n",
              "// WITHOUT WARRANTIES OR CONDITIONS OF ANY KIND, either express or implied.\n",
              "// See the License for the specific language governing permissions and\n",
              "// limitations under the License.\n",
              "\n",
              "/**\n",
              " * @fileoverview Helpers for google.colab Python module.\n",
              " */\n",
              "(function(scope) {\n",
              "function span(text, styleAttributes = {}) {\n",
              "  const element = document.createElement('span');\n",
              "  element.textContent = text;\n",
              "  for (const key of Object.keys(styleAttributes)) {\n",
              "    element.style[key] = styleAttributes[key];\n",
              "  }\n",
              "  return element;\n",
              "}\n",
              "\n",
              "// Max number of bytes which will be uploaded at a time.\n",
              "const MAX_PAYLOAD_SIZE = 100 * 1024;\n",
              "\n",
              "function _uploadFiles(inputId, outputId) {\n",
              "  const steps = uploadFilesStep(inputId, outputId);\n",
              "  const outputElement = document.getElementById(outputId);\n",
              "  // Cache steps on the outputElement to make it available for the next call\n",
              "  // to uploadFilesContinue from Python.\n",
              "  outputElement.steps = steps;\n",
              "\n",
              "  return _uploadFilesContinue(outputId);\n",
              "}\n",
              "\n",
              "// This is roughly an async generator (not supported in the browser yet),\n",
              "// where there are multiple asynchronous steps and the Python side is going\n",
              "// to poll for completion of each step.\n",
              "// This uses a Promise to block the python side on completion of each step,\n",
              "// then passes the result of the previous step as the input to the next step.\n",
              "function _uploadFilesContinue(outputId) {\n",
              "  const outputElement = document.getElementById(outputId);\n",
              "  const steps = outputElement.steps;\n",
              "\n",
              "  const next = steps.next(outputElement.lastPromiseValue);\n",
              "  return Promise.resolve(next.value.promise).then((value) => {\n",
              "    // Cache the last promise value to make it available to the next\n",
              "    // step of the generator.\n",
              "    outputElement.lastPromiseValue = value;\n",
              "    return next.value.response;\n",
              "  });\n",
              "}\n",
              "\n",
              "/**\n",
              " * Generator function which is called between each async step of the upload\n",
              " * process.\n",
              " * @param {string} inputId Element ID of the input file picker element.\n",
              " * @param {string} outputId Element ID of the output display.\n",
              " * @return {!Iterable<!Object>} Iterable of next steps.\n",
              " */\n",
              "function* uploadFilesStep(inputId, outputId) {\n",
              "  const inputElement = document.getElementById(inputId);\n",
              "  inputElement.disabled = false;\n",
              "\n",
              "  const outputElement = document.getElementById(outputId);\n",
              "  outputElement.innerHTML = '';\n",
              "\n",
              "  const pickedPromise = new Promise((resolve) => {\n",
              "    inputElement.addEventListener('change', (e) => {\n",
              "      resolve(e.target.files);\n",
              "    });\n",
              "  });\n",
              "\n",
              "  const cancel = document.createElement('button');\n",
              "  inputElement.parentElement.appendChild(cancel);\n",
              "  cancel.textContent = 'Cancel upload';\n",
              "  const cancelPromise = new Promise((resolve) => {\n",
              "    cancel.onclick = () => {\n",
              "      resolve(null);\n",
              "    };\n",
              "  });\n",
              "\n",
              "  // Wait for the user to pick the files.\n",
              "  const files = yield {\n",
              "    promise: Promise.race([pickedPromise, cancelPromise]),\n",
              "    response: {\n",
              "      action: 'starting',\n",
              "    }\n",
              "  };\n",
              "\n",
              "  cancel.remove();\n",
              "\n",
              "  // Disable the input element since further picks are not allowed.\n",
              "  inputElement.disabled = true;\n",
              "\n",
              "  if (!files) {\n",
              "    return {\n",
              "      response: {\n",
              "        action: 'complete',\n",
              "      }\n",
              "    };\n",
              "  }\n",
              "\n",
              "  for (const file of files) {\n",
              "    const li = document.createElement('li');\n",
              "    li.append(span(file.name, {fontWeight: 'bold'}));\n",
              "    li.append(span(\n",
              "        `(${file.type || 'n/a'}) - ${file.size} bytes, ` +\n",
              "        `last modified: ${\n",
              "            file.lastModifiedDate ? file.lastModifiedDate.toLocaleDateString() :\n",
              "                                    'n/a'} - `));\n",
              "    const percent = span('0% done');\n",
              "    li.appendChild(percent);\n",
              "\n",
              "    outputElement.appendChild(li);\n",
              "\n",
              "    const fileDataPromise = new Promise((resolve) => {\n",
              "      const reader = new FileReader();\n",
              "      reader.onload = (e) => {\n",
              "        resolve(e.target.result);\n",
              "      };\n",
              "      reader.readAsArrayBuffer(file);\n",
              "    });\n",
              "    // Wait for the data to be ready.\n",
              "    let fileData = yield {\n",
              "      promise: fileDataPromise,\n",
              "      response: {\n",
              "        action: 'continue',\n",
              "      }\n",
              "    };\n",
              "\n",
              "    // Use a chunked sending to avoid message size limits. See b/62115660.\n",
              "    let position = 0;\n",
              "    do {\n",
              "      const length = Math.min(fileData.byteLength - position, MAX_PAYLOAD_SIZE);\n",
              "      const chunk = new Uint8Array(fileData, position, length);\n",
              "      position += length;\n",
              "\n",
              "      const base64 = btoa(String.fromCharCode.apply(null, chunk));\n",
              "      yield {\n",
              "        response: {\n",
              "          action: 'append',\n",
              "          file: file.name,\n",
              "          data: base64,\n",
              "        },\n",
              "      };\n",
              "\n",
              "      let percentDone = fileData.byteLength === 0 ?\n",
              "          100 :\n",
              "          Math.round((position / fileData.byteLength) * 100);\n",
              "      percent.textContent = `${percentDone}% done`;\n",
              "\n",
              "    } while (position < fileData.byteLength);\n",
              "  }\n",
              "\n",
              "  // All done.\n",
              "  yield {\n",
              "    response: {\n",
              "      action: 'complete',\n",
              "    }\n",
              "  };\n",
              "}\n",
              "\n",
              "scope.google = scope.google || {};\n",
              "scope.google.colab = scope.google.colab || {};\n",
              "scope.google.colab._files = {\n",
              "  _uploadFiles,\n",
              "  _uploadFilesContinue,\n",
              "};\n",
              "})(self);\n",
              "</script> "
            ]
          },
          "metadata": {}
        },
        {
          "output_type": "stream",
          "name": "stdout",
          "text": [
            "Saving dataset Q2.csv to dataset Q2.csv\n"
          ]
        }
      ]
    },
    {
      "cell_type": "code",
      "source": [
        "#Sample training dataset\n",
        "data = pd.read_csv(io.BytesIO(uploaded['dataset Q2.csv']),skiprows=3)\n",
        "print(data)"
      ],
      "metadata": {
        "colab": {
          "base_uri": "https://localhost:8080/"
        },
        "id": "WAAZrs1pKnJo",
        "outputId": "8ea22407-002f-47f7-9483-3a1e3bef1dbd"
      },
      "execution_count": 67,
      "outputs": [
        {
          "output_type": "stream",
          "name": "stdout",
          "text": [
            "  Animal  Height (cm)  Weight (kg)  Category\n",
            "0      A           45           4.0   Mammal\n",
            "1      B           32           1.0  Reptile\n",
            "2      C           22           0.5  Reptile\n",
            "3      D           38           3.0   Mammal\n",
            "4      E           60           7.0   Mammal\n",
            "5      F           18           0.3  Reptile\n",
            "6      G           50           5.0   Mammal\n",
            "7      H           28           1.5   Mammal\n",
            "8      I           40           4.0   Mammal\n",
            "9      J           20           0.6  Reptile\n"
          ]
        }
      ]
    },
    {
      "cell_type": "code",
      "source": [
        "# Test animal's features (height and weight)\n",
        "test_animal = [35, 2.5]"
      ],
      "metadata": {
        "id": "azI-BpwiLxAb"
      },
      "execution_count": 68,
      "outputs": []
    },
    {
      "cell_type": "markdown",
      "source": [
        "## Jumla MO'utarizaa\n"
      ],
      "metadata": {
        "id": "k8Z1eQhkbsPZ"
      }
    },
    {
      "cell_type": "code",
      "source": [
        "# Example DataFrame\n",
        "import pandas as pd\n",
        "\n",
        "data = pd.DataFrame({\n",
        "    'Column1': ['Animal1', 'Animal2', 'Animal3', 'Animal4'],\n",
        "    'Height': [40, 30, 35, 45],\n",
        "    'Weight': [5, 3, 2.5, 4],\n",
        "    'Category': ['Mammal', 'Reptile', 'Reptile', 'Mammal']\n",
        "})\n",
        "print(data)\n",
        "# Remove rows by index\n",
        "rows_to_remove = [2, 3]  # Indices of rows to remove\n",
        "data_cleaned = data.drop(rows_to_remove)\n",
        "\n",
        "# Or, select a subset of rows using boolean indexing\n",
        "rows_to_keep = [True, True, False, False]  # Keep rows 0 and 1, remove 2 and 3\n",
        "data_cleaned = data[rows_to_keep]\n",
        "\n",
        "print(data_cleaned)"
      ],
      "metadata": {
        "id": "2wzJwNE5Oyk1",
        "colab": {
          "base_uri": "https://localhost:8080/"
        },
        "outputId": "ec888ca1-fa3a-479c-e8ee-5a8c659d1cc6"
      },
      "execution_count": 21,
      "outputs": [
        {
          "output_type": "stream",
          "name": "stdout",
          "text": [
            "   Column1  Height  Weight Category\n",
            "0  Animal1      40     5.0   Mammal\n",
            "1  Animal2      30     3.0  Reptile\n",
            "2  Animal3      35     2.5  Reptile\n",
            "3  Animal4      45     4.0   Mammal\n",
            "   Column1  Height  Weight Category\n",
            "0  Animal1      40     5.0   Mammal\n",
            "1  Animal2      30     3.0  Reptile\n"
          ]
        }
      ]
    },
    {
      "cell_type": "markdown",
      "source": [
        "# A: **Calculate Euclidean distance between test animal and each data point**\n"
      ],
      "metadata": {
        "id": "zXWfyFzjL-D-"
      }
    },
    {
      "cell_type": "code",
      "source": [
        "# print(new_data)\n",
        "print('Test Data \\n',np.array(test_animal))\n",
        "\n",
        "# Extract features for clustering\n",
        "X = data.iloc[:, [1, 2]].values  # Columns 2 and 3 (Height & Weight)\n",
        "\n",
        "# Extract the height and weight values using list comprehension\n",
        "height_weight_array = np.array([[record[0], record[1]] for record in X])\n",
        "print(height_weight_array)\n",
        "\n",
        "# Calculate Euclidean distances\n",
        "distances = [np.linalg.norm(np.array(test_animal) - record) for record in height_weight_array]\n"
      ],
      "metadata": {
        "colab": {
          "base_uri": "https://localhost:8080/"
        },
        "id": "lJrgxkwqMJVg",
        "outputId": "c8e2ac5c-bca4-44ab-da38-d3e86dbcd6b5"
      },
      "execution_count": 70,
      "outputs": [
        {
          "output_type": "stream",
          "name": "stdout",
          "text": [
            "Test Data \n",
            " [35.   2.5]\n",
            "[[45.   4. ]\n",
            " [32.   1. ]\n",
            " [22.   0.5]\n",
            " [38.   3. ]\n",
            " [60.   7. ]\n",
            " [18.   0.3]\n",
            " [50.   5. ]\n",
            " [28.   1.5]\n",
            " [40.   4. ]\n",
            " [20.   0.6]]\n"
          ]
        }
      ]
    },
    {
      "cell_type": "markdown",
      "source": [
        "# B: Determine k-nearest neighbours for the test animal\n"
      ],
      "metadata": {
        "id": "_ZgcZHu5fE5z"
      }
    },
    {
      "cell_type": "code",
      "source": [
        "k = 3  # Number of neighbors to consider\n",
        "nearest_indices = np.argsort(distances)[:k]\n",
        "print(nearest_indices)"
      ],
      "metadata": {
        "colab": {
          "base_uri": "https://localhost:8080/"
        },
        "id": "2UR1--aqcmmL",
        "outputId": "f592a9b8-93ba-41ba-d683-77f20e32ea18"
      },
      "execution_count": 71,
      "outputs": [
        {
          "output_type": "stream",
          "name": "stdout",
          "text": [
            "[3 1 8]\n"
          ]
        }
      ]
    },
    {
      "cell_type": "markdown",
      "source": [
        "# C: P**redict the category for the test animal based on majority category among k-nearest neighbors**\n"
      ],
      "metadata": {
        "id": "5yhQE6vKfQWU"
      }
    },
    {
      "cell_type": "code",
      "source": [
        "print(data)\n",
        "# nearest_categories = [data[index][3] for index in nearest_indices]\n",
        "# nearest_categories = [data[index][3] for index in nearest_indices] # This showed error\n",
        "nearest_categories = [data.loc[index, 'Category'] for index in nearest_indices]\n",
        "predicted_category = Counter(nearest_categories).most_common(1)[0][0]\n",
        "predicted_category\n"
      ],
      "metadata": {
        "id": "5sw4-XccfUeO",
        "colab": {
          "base_uri": "https://localhost:8080/",
          "height": 226
        },
        "outputId": "872a102a-68a8-478e-a3bd-7c4d7e1ab482"
      },
      "execution_count": 72,
      "outputs": [
        {
          "output_type": "stream",
          "name": "stdout",
          "text": [
            "  Animal  Height (cm)  Weight (kg)  Category\n",
            "0      A           45           4.0   Mammal\n",
            "1      B           32           1.0  Reptile\n",
            "2      C           22           0.5  Reptile\n",
            "3      D           38           3.0   Mammal\n",
            "4      E           60           7.0   Mammal\n",
            "5      F           18           0.3  Reptile\n",
            "6      G           50           5.0   Mammal\n",
            "7      H           28           1.5   Mammal\n",
            "8      I           40           4.0   Mammal\n",
            "9      J           20           0.6  Reptile\n"
          ]
        },
        {
          "output_type": "execute_result",
          "data": {
            "text/plain": [
              "'Mammal'"
            ],
            "application/vnd.google.colaboratory.intrinsic+json": {
              "type": "string"
            }
          },
          "metadata": {},
          "execution_count": 72
        }
      ]
    },
    {
      "cell_type": "code",
      "source": [
        "print(f\"Test Animal's Features: Height = {test_animal[0]} cm, Weight = {test_animal[1]} kg\")\n",
        "print(\"K-Nearest Neighbors:\")\n",
        "for index in nearest_indices:\n",
        "    print(f\"Animal: {data.loc[index, 'Animal']}, Distance: {distances[index]:.2f}, Category: {data.loc[index, 'Category']}\")\n",
        "\n",
        "print(f\"\\nPredicted Category for Test Animal: {predicted_category}\")"
      ],
      "metadata": {
        "id": "vkzjqIgmhuH7",
        "colab": {
          "base_uri": "https://localhost:8080/"
        },
        "outputId": "296760ce-e110-4e78-8ba3-c3d30acd65f7"
      },
      "execution_count": 73,
      "outputs": [
        {
          "output_type": "stream",
          "name": "stdout",
          "text": [
            "Test Animal's Features: Height = 35 cm, Weight = 2.5 kg\n",
            "K-Nearest Neighbors:\n",
            "Animal: D, Distance: 3.04, Category: Mammal\n",
            "Animal: B, Distance: 3.35, Category: Reptile\n",
            "Animal: I, Distance: 5.22, Category: Mammal\n",
            "\n",
            "Predicted Category for Test Animal: Mammal\n"
          ]
        }
      ]
    },
    {
      "cell_type": "markdown",
      "source": [
        "# **Question 1**\n",
        "\n",
        "Suppose you are analyzing the relationship between the sales of a product and two independent variables: advertising expenditure (in thousands of dollars) and the number of salespeople involved.\n",
        "You have collected the following data:\n",
        "\n",
        "![image.png](data:image/png;base64,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)\n",
        "\n",
        "Perform a Multiple Linear Regression analysis using Python and answer the following:\n",
        "Write Code (in Java or Python)\n",
        "\n",
        "a) Which can generate equation of the regression plane?\n",
        "\n",
        "b) Interpret the coefficients of the independent variables.\n",
        "\n",
        "c) Calculate the R-squared value.\n",
        "\n",
        "d) Predict the sales when advertising expenditure is $9,000 and there are 7 salespeople.\n"
      ],
      "metadata": {
        "id": "g46-Az1ZNpYN"
      }
    },
    {
      "cell_type": "code",
      "source": [
        "# @title\n",
        "#let's import necessary Libraries.\n",
        "import pandas as pd\n",
        "import numpy as np\n",
        "import statsmodels.api as sm"
      ],
      "metadata": {
        "id": "5nPKHTmEOBGV"
      },
      "execution_count": 74,
      "outputs": []
    },
    {
      "cell_type": "code",
      "source": [
        "# @title\n",
        "# Sample Data\n",
        "dataset = {\n",
        "    'Advertising':[8,5,10,12,7,15,13,19],\n",
        "    'SalesPeople':[6,3,8,5,4,7,9,9],\n",
        "    'Sales':[120,75,145,130,100,130,110,150],\n",
        "}\n",
        "data = pd.DataFrame(dataset)\n",
        "print(data)"
      ],
      "metadata": {
        "id": "lcxua2JjRMvh",
        "colab": {
          "base_uri": "https://localhost:8080/"
        },
        "outputId": "074a1cd9-9cc5-44e1-94b6-bd9d413f63d8"
      },
      "execution_count": 75,
      "outputs": [
        {
          "output_type": "stream",
          "name": "stdout",
          "text": [
            "   Advertising  SalesPeople  Sales\n",
            "0            8            6    120\n",
            "1            5            3     75\n",
            "2           10            8    145\n",
            "3           12            5    130\n",
            "4            7            4    100\n",
            "5           15            7    130\n",
            "6           13            9    110\n",
            "7           19            9    150\n"
          ]
        }
      ]
    },
    {
      "cell_type": "markdown",
      "source": [
        "a) **The equation of the regression plane is generated by the coefficients obtained from the regression analysis. It's displayed in the summary table.**"
      ],
      "metadata": {
        "id": "Frod6M6EgMU-"
      }
    },
    {
      "cell_type": "markdown",
      "source": [
        "b) **The coefficients of the independent variables (Advertising and SalesPeople) are displayed in the summary table.**\n",
        "\n",
        "They indicate how a one-unit change in each independent variable impacts the dependent variable (Sales), while keeping other variables constant."
      ],
      "metadata": {
        "id": "8QjA6XHXgP-8"
      }
    },
    {
      "cell_type": "markdown",
      "source": [
        "c) **The R-squared value is calculated and displayed in the summary table. It quantifies the goodness of fit of the model.**\n",
        "\n",
        "![image.png](data:image/png;base64,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)\n"
      ],
      "metadata": {
        "id": "cZnm7JzsgknL"
      }
    },
    {
      "cell_type": "markdown",
      "source": [
        "d) **Predict the sales** when advertising expenditure is **$9,000** and there are **7 salespeople**"
      ],
      "metadata": {
        "id": "Tb5dMsb5guF9"
      }
    },
    {
      "cell_type": "code",
      "source": [
        "# Add a constant term to the independent variables\n",
        "X = sm.add_constant(data[['Advertising', 'SalesPeople']])\n",
        "y = data['Sales']\n",
        "X"
      ],
      "metadata": {
        "id": "k-Ss9NBbXbdg",
        "colab": {
          "base_uri": "https://localhost:8080/",
          "height": 300
        },
        "outputId": "e977965d-0ed0-442a-9f62-a8cb18b3bfe8"
      },
      "execution_count": 76,
      "outputs": [
        {
          "output_type": "execute_result",
          "data": {
            "text/plain": [
              "   const  Advertising  SalesPeople\n",
              "0    1.0            8            6\n",
              "1    1.0            5            3\n",
              "2    1.0           10            8\n",
              "3    1.0           12            5\n",
              "4    1.0            7            4\n",
              "5    1.0           15            7\n",
              "6    1.0           13            9\n",
              "7    1.0           19            9"
            ],
            "text/html": [
              "\n",
              "  <div id=\"df-f67cd743-d536-4cd0-906b-f47f7d4c124d\" class=\"colab-df-container\">\n",
              "    <div>\n",
              "<style scoped>\n",
              "    .dataframe tbody tr th:only-of-type {\n",
              "        vertical-align: middle;\n",
              "    }\n",
              "\n",
              "    .dataframe tbody tr th {\n",
              "        vertical-align: top;\n",
              "    }\n",
              "\n",
              "    .dataframe thead th {\n",
              "        text-align: right;\n",
              "    }\n",
              "</style>\n",
              "<table border=\"1\" class=\"dataframe\">\n",
              "  <thead>\n",
              "    <tr style=\"text-align: right;\">\n",
              "      <th></th>\n",
              "      <th>const</th>\n",
              "      <th>Advertising</th>\n",
              "      <th>SalesPeople</th>\n",
              "    </tr>\n",
              "  </thead>\n",
              "  <tbody>\n",
              "    <tr>\n",
              "      <th>0</th>\n",
              "      <td>1.0</td>\n",
              "      <td>8</td>\n",
              "      <td>6</td>\n",
              "    </tr>\n",
              "    <tr>\n",
              "      <th>1</th>\n",
              "      <td>1.0</td>\n",
              "      <td>5</td>\n",
              "      <td>3</td>\n",
              "    </tr>\n",
              "    <tr>\n",
              "      <th>2</th>\n",
              "      <td>1.0</td>\n",
              "      <td>10</td>\n",
              "      <td>8</td>\n",
              "    </tr>\n",
              "    <tr>\n",
              "      <th>3</th>\n",
              "      <td>1.0</td>\n",
              "      <td>12</td>\n",
              "      <td>5</td>\n",
              "    </tr>\n",
              "    <tr>\n",
              "      <th>4</th>\n",
              "      <td>1.0</td>\n",
              "      <td>7</td>\n",
              "      <td>4</td>\n",
              "    </tr>\n",
              "    <tr>\n",
              "      <th>5</th>\n",
              "      <td>1.0</td>\n",
              "      <td>15</td>\n",
              "      <td>7</td>\n",
              "    </tr>\n",
              "    <tr>\n",
              "      <th>6</th>\n",
              "      <td>1.0</td>\n",
              "      <td>13</td>\n",
              "      <td>9</td>\n",
              "    </tr>\n",
              "    <tr>\n",
              "      <th>7</th>\n",
              "      <td>1.0</td>\n",
              "      <td>19</td>\n",
              "      <td>9</td>\n",
              "    </tr>\n",
              "  </tbody>\n",
              "</table>\n",
              "</div>\n",
              "    <div class=\"colab-df-buttons\">\n",
              "\n",
              "  <div class=\"colab-df-container\">\n",
              "    <button class=\"colab-df-convert\" onclick=\"convertToInteractive('df-f67cd743-d536-4cd0-906b-f47f7d4c124d')\"\n",
              "            title=\"Convert this dataframe to an interactive table.\"\n",
              "            style=\"display:none;\">\n",
              "\n",
              "  <svg xmlns=\"http://www.w3.org/2000/svg\" height=\"24px\" viewBox=\"0 -960 960 960\">\n",
              "    <path d=\"M120-120v-720h720v720H120Zm60-500h600v-160H180v160Zm220 220h160v-160H400v160Zm0 220h160v-160H400v160ZM180-400h160v-160H180v160Zm440 0h160v-160H620v160ZM180-180h160v-160H180v160Zm440 0h160v-160H620v160Z\"/>\n",
              "  </svg>\n",
              "    </button>\n",
              "\n",
              "  <style>\n",
              "    .colab-df-container {\n",
              "      display:flex;\n",
              "      gap: 12px;\n",
              "    }\n",
              "\n",
              "    .colab-df-convert {\n",
              "      background-color: #E8F0FE;\n",
              "      border: none;\n",
              "      border-radius: 50%;\n",
              "      cursor: pointer;\n",
              "      display: none;\n",
              "      fill: #1967D2;\n",
              "      height: 32px;\n",
              "      padding: 0 0 0 0;\n",
              "      width: 32px;\n",
              "    }\n",
              "\n",
              "    .colab-df-convert:hover {\n",
              "      background-color: #E2EBFA;\n",
              "      box-shadow: 0px 1px 2px rgba(60, 64, 67, 0.3), 0px 1px 3px 1px rgba(60, 64, 67, 0.15);\n",
              "      fill: #174EA6;\n",
              "    }\n",
              "\n",
              "    .colab-df-buttons div {\n",
              "      margin-bottom: 4px;\n",
              "    }\n",
              "\n",
              "    [theme=dark] .colab-df-convert {\n",
              "      background-color: #3B4455;\n",
              "      fill: #D2E3FC;\n",
              "    }\n",
              "\n",
              "    [theme=dark] .colab-df-convert:hover {\n",
              "      background-color: #434B5C;\n",
              "      box-shadow: 0px 1px 3px 1px rgba(0, 0, 0, 0.15);\n",
              "      filter: drop-shadow(0px 1px 2px rgba(0, 0, 0, 0.3));\n",
              "      fill: #FFFFFF;\n",
              "    }\n",
              "  </style>\n",
              "\n",
              "    <script>\n",
              "      const buttonEl =\n",
              "        document.querySelector('#df-f67cd743-d536-4cd0-906b-f47f7d4c124d button.colab-df-convert');\n",
              "      buttonEl.style.display =\n",
              "        google.colab.kernel.accessAllowed ? 'block' : 'none';\n",
              "\n",
              "      async function convertToInteractive(key) {\n",
              "        const element = document.querySelector('#df-f67cd743-d536-4cd0-906b-f47f7d4c124d');\n",
              "        const dataTable =\n",
              "          await google.colab.kernel.invokeFunction('convertToInteractive',\n",
              "                                                    [key], {});\n",
              "        if (!dataTable) return;\n",
              "\n",
              "        const docLinkHtml = 'Like what you see? Visit the ' +\n",
              "          '<a target=\"_blank\" href=https://colab.research.google.com/notebooks/data_table.ipynb>data table notebook</a>'\n",
              "          + ' to learn more about interactive tables.';\n",
              "        element.innerHTML = '';\n",
              "        dataTable['output_type'] = 'display_data';\n",
              "        await google.colab.output.renderOutput(dataTable, element);\n",
              "        const docLink = document.createElement('div');\n",
              "        docLink.innerHTML = docLinkHtml;\n",
              "        element.appendChild(docLink);\n",
              "      }\n",
              "    </script>\n",
              "  </div>\n",
              "\n",
              "\n",
              "<div id=\"df-9734bb4d-b571-4e3a-a91e-9cfacf5e75bf\">\n",
              "  <button class=\"colab-df-quickchart\" onclick=\"quickchart('df-9734bb4d-b571-4e3a-a91e-9cfacf5e75bf')\"\n",
              "            title=\"Suggest charts.\"\n",
              "            style=\"display:none;\">\n",
              "\n",
              "<svg xmlns=\"http://www.w3.org/2000/svg\" height=\"24px\"viewBox=\"0 0 24 24\"\n",
              "     width=\"24px\">\n",
              "    <g>\n",
              "        <path d=\"M19 3H5c-1.1 0-2 .9-2 2v14c0 1.1.9 2 2 2h14c1.1 0 2-.9 2-2V5c0-1.1-.9-2-2-2zM9 17H7v-7h2v7zm4 0h-2V7h2v10zm4 0h-2v-4h2v4z\"/>\n",
              "    </g>\n",
              "</svg>\n",
              "  </button>\n",
              "\n",
              "<style>\n",
              "  .colab-df-quickchart {\n",
              "      --bg-color: #E8F0FE;\n",
              "      --fill-color: #1967D2;\n",
              "      --hover-bg-color: #E2EBFA;\n",
              "      --hover-fill-color: #174EA6;\n",
              "      --disabled-fill-color: #AAA;\n",
              "      --disabled-bg-color: #DDD;\n",
              "  }\n",
              "\n",
              "  [theme=dark] .colab-df-quickchart {\n",
              "      --bg-color: #3B4455;\n",
              "      --fill-color: #D2E3FC;\n",
              "      --hover-bg-color: #434B5C;\n",
              "      --hover-fill-color: #FFFFFF;\n",
              "      --disabled-bg-color: #3B4455;\n",
              "      --disabled-fill-color: #666;\n",
              "  }\n",
              "\n",
              "  .colab-df-quickchart {\n",
              "    background-color: var(--bg-color);\n",
              "    border: none;\n",
              "    border-radius: 50%;\n",
              "    cursor: pointer;\n",
              "    display: none;\n",
              "    fill: var(--fill-color);\n",
              "    height: 32px;\n",
              "    padding: 0;\n",
              "    width: 32px;\n",
              "  }\n",
              "\n",
              "  .colab-df-quickchart:hover {\n",
              "    background-color: var(--hover-bg-color);\n",
              "    box-shadow: 0 1px 2px rgba(60, 64, 67, 0.3), 0 1px 3px 1px rgba(60, 64, 67, 0.15);\n",
              "    fill: var(--button-hover-fill-color);\n",
              "  }\n",
              "\n",
              "  .colab-df-quickchart-complete:disabled,\n",
              "  .colab-df-quickchart-complete:disabled:hover {\n",
              "    background-color: var(--disabled-bg-color);\n",
              "    fill: var(--disabled-fill-color);\n",
              "    box-shadow: none;\n",
              "  }\n",
              "\n",
              "  .colab-df-spinner {\n",
              "    border: 2px solid var(--fill-color);\n",
              "    border-color: transparent;\n",
              "    border-bottom-color: var(--fill-color);\n",
              "    animation:\n",
              "      spin 1s steps(1) infinite;\n",
              "  }\n",
              "\n",
              "  @keyframes spin {\n",
              "    0% {\n",
              "      border-color: transparent;\n",
              "      border-bottom-color: var(--fill-color);\n",
              "      border-left-color: var(--fill-color);\n",
              "    }\n",
              "    20% {\n",
              "      border-color: transparent;\n",
              "      border-left-color: var(--fill-color);\n",
              "      border-top-color: var(--fill-color);\n",
              "    }\n",
              "    30% {\n",
              "      border-color: transparent;\n",
              "      border-left-color: var(--fill-color);\n",
              "      border-top-color: var(--fill-color);\n",
              "      border-right-color: var(--fill-color);\n",
              "    }\n",
              "    40% {\n",
              "      border-color: transparent;\n",
              "      border-right-color: var(--fill-color);\n",
              "      border-top-color: var(--fill-color);\n",
              "    }\n",
              "    60% {\n",
              "      border-color: transparent;\n",
              "      border-right-color: var(--fill-color);\n",
              "    }\n",
              "    80% {\n",
              "      border-color: transparent;\n",
              "      border-right-color: var(--fill-color);\n",
              "      border-bottom-color: var(--fill-color);\n",
              "    }\n",
              "    90% {\n",
              "      border-color: transparent;\n",
              "      border-bottom-color: var(--fill-color);\n",
              "    }\n",
              "  }\n",
              "</style>\n",
              "\n",
              "  <script>\n",
              "    async function quickchart(key) {\n",
              "      const quickchartButtonEl =\n",
              "        document.querySelector('#' + key + ' button');\n",
              "      quickchartButtonEl.disabled = true;  // To prevent multiple clicks.\n",
              "      quickchartButtonEl.classList.add('colab-df-spinner');\n",
              "      try {\n",
              "        const charts = await google.colab.kernel.invokeFunction(\n",
              "            'suggestCharts', [key], {});\n",
              "      } catch (error) {\n",
              "        console.error('Error during call to suggestCharts:', error);\n",
              "      }\n",
              "      quickchartButtonEl.classList.remove('colab-df-spinner');\n",
              "      quickchartButtonEl.classList.add('colab-df-quickchart-complete');\n",
              "    }\n",
              "    (() => {\n",
              "      let quickchartButtonEl =\n",
              "        document.querySelector('#df-9734bb4d-b571-4e3a-a91e-9cfacf5e75bf button');\n",
              "      quickchartButtonEl.style.display =\n",
              "        google.colab.kernel.accessAllowed ? 'block' : 'none';\n",
              "    })();\n",
              "  </script>\n",
              "</div>\n",
              "    </div>\n",
              "  </div>\n"
            ]
          },
          "metadata": {},
          "execution_count": 76
        }
      ]
    },
    {
      "cell_type": "code",
      "source": [
        "# Perform the multiple linear regression analysis\n",
        "model = sm.OLS(y, X).fit()\n",
        "# Display the regression summary\n",
        "print(model.summary())"
      ],
      "metadata": {
        "colab": {
          "base_uri": "https://localhost:8080/"
        },
        "id": "xlXham0VYyIc",
        "outputId": "19528956-0e6b-4a36-873b-7ab11f872412"
      },
      "execution_count": 77,
      "outputs": [
        {
          "output_type": "stream",
          "name": "stdout",
          "text": [
            "                            OLS Regression Results                            \n",
            "==============================================================================\n",
            "Dep. Variable:                  Sales   R-squared:                       0.619\n",
            "Model:                            OLS   Adj. R-squared:                  0.467\n",
            "Method:                 Least Squares   F-statistic:                     4.061\n",
            "Date:                Tue, 12 Sep 2023   Prob (F-statistic):             0.0896\n",
            "Time:                        10:26:12   Log-Likelihood:                -32.593\n",
            "No. Observations:                   8   AIC:                             71.19\n",
            "Df Residuals:                       5   BIC:                             71.42\n",
            "Df Model:                           2                                         \n",
            "Covariance Type:            nonrobust                                         \n",
            "===============================================================================\n",
            "                  coef    std err          t      P>|t|      [0.025      0.975]\n",
            "-------------------------------------------------------------------------------\n",
            "const          66.6725     20.341      3.278      0.022      14.384     118.961\n",
            "Advertising     2.5245      2.373      1.064      0.336      -3.576       8.626\n",
            "SalesPeople     3.9595      4.802      0.825      0.447      -8.385      16.304\n",
            "==============================================================================\n",
            "Omnibus:                        0.277   Durbin-Watson:                   2.135\n",
            "Prob(Omnibus):                  0.871   Jarque-Bera (JB):                0.351\n",
            "Skew:                          -0.311   Prob(JB):                        0.839\n",
            "Kurtosis:                       2.182   Cond. No.                         44.0\n",
            "==============================================================================\n",
            "\n",
            "Notes:\n",
            "[1] Standard Errors assume that the covariance matrix of the errors is correctly specified.\n"
          ]
        },
        {
          "output_type": "stream",
          "name": "stderr",
          "text": [
            "/usr/local/lib/python3.10/dist-packages/scipy/stats/_stats_py.py:1806: UserWarning: kurtosistest only valid for n>=20 ... continuing anyway, n=8\n",
            "  warnings.warn(\"kurtosistest only valid for n>=20 ... continuing \"\n"
          ]
        }
      ]
    },
    {
      "cell_type": "code",
      "source": [
        "# d) You can use the model to predict sales for specific values of Advertising and SalesPeople.\n",
        "new_data = pd.DataFrame({'const': [1,1,1,1,1], 'Advertising': [9,20,20,9,18], 'SalesPeople': [7,11,5,14,14]})\n",
        "predicted_sales = model.predict(new_data)\n",
        "print('Predicted Sales:', predicted_sales)\n"
      ],
      "metadata": {
        "colab": {
          "base_uri": "https://localhost:8080/"
        },
        "id": "OxBuhdwnY8lc",
        "outputId": "64752efd-b41a-4296-df0f-8506085f951c"
      },
      "execution_count": 78,
      "outputs": [
        {
          "output_type": "stream",
          "name": "stdout",
          "text": [
            "Predicted Sales: 0    117.110047\n",
            "1    160.718095\n",
            "2    136.960974\n",
            "3    144.826688\n",
            "4    167.547570\n",
            "dtype: float64\n"
          ]
        }
      ]
    },
    {
      "cell_type": "markdown",
      "source": [
        "**# Multiple Regression**\n",
        "\n",
        "**--> Y = b0 + b1x1 + b2x2**\n",
        "\n",
        "**--> b0 = Y' - b1.x1' - b2.x2'**\n",
        "\n",
        "**--> b1 = (Σx2^2)(Σx1y) - (Σx1x2)(Σx2y) / (Σx1^2)(Σx2^2) - (Σx1x2)^2**\n",
        "\n",
        "**--> b1 = (Σx1^2)(Σx2y) - (Σx1x2)(Σx1y) / (Σx1^2)(Σx2^2) - (Σx1x2)^2**"
      ],
      "metadata": {
        "id": "fZo7kdjFWSTQ"
      }
    },
    {
      "cell_type": "code",
      "source": [
        "# Load your dataset\n",
        "# Assume 'X1' and 'X2' are independent variables, and 'Y' is the dependent variable\n",
        "# You need to replace these variable names with your actual column names\n",
        "X1 = dataset['Advertising'].values\n",
        "X2 = dataset['SalesPeople'].values\n",
        "Y = dataset['Sales'].values\n",
        "\n",
        "# Adding a constant term to the predictor variables\n",
        "X['const'] = 1\n"
      ],
      "metadata": {
        "id": "bIuhNd2ogzcz"
      },
      "execution_count": null,
      "outputs": []
    }
  ]
}